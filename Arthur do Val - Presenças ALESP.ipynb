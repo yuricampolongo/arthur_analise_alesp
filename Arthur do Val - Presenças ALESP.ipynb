{
 "cells": [
  {
   "cell_type": "markdown",
   "metadata": {},
   "source": [
    "## Arthur do Val -  Presenças na ALESP"
   ]
  },
  {
   "cell_type": "markdown",
   "metadata": {},
   "source": [
    "Fonte: https://www.al.sp.gov.br/alesp/presenca-plenario/\n",
    "\n",
    "Criado por: Yuri Campolongo"
   ]
  },
  {
   "cell_type": "code",
   "execution_count": 9,
   "metadata": {},
   "outputs": [],
   "source": [
    "import pandas as pd\n",
    "import matplotlib.pyplot as plt\n",
    "import numpy as np\n",
    "import os.path\n",
    "from bs4 import BeautifulSoup"
   ]
  },
  {
   "cell_type": "code",
   "execution_count": 121,
   "metadata": {},
   "outputs": [],
   "source": [
    "presencas_df = []\n",
    "meses = [1,2,3,4,5,6,7,8,9,10,11,12]\n",
    "anos = [2019,2020]\n",
    "\n",
    "for ano in anos:\n",
    "    for mes in meses:\n",
    "        if os.path.exists('presenca_arthur/mes ' + str(mes) + \" \" + str(ano) + \".html\"):\n",
    "            file = 'presenca_arthur/mes ' + str(mes) + \" \" + str(ano) + \".html\" \n",
    "            soup = BeautifulSoup(open(file))\n",
    "            presenca_infos = soup.find_all('td', {\"class\" : \"infoPresenca\"})\n",
    "            presenca_infos = presenca_infos[1:-2]\n",
    "            dias = []\n",
    "            tipo_sessao = []\n",
    "            presenca = []\n",
    "            mes_info = []\n",
    "            ano_info = []\n",
    "            size = len(presenca_infos)\n",
    "            current = 0\n",
    "            if size > 0:\n",
    "                while current < size:\n",
    "                    dias.append(presenca_infos[current].text.strip())\n",
    "                    current += 1\n",
    "                    tipo_sessao.append(presenca_infos[current].text.strip())\n",
    "                    current += 1\n",
    "                    presenca.append(presenca_infos[current].text.strip())\n",
    "                    current += 1\n",
    "                    mes_info.append(mes)\n",
    "                    ano_info.append(ano)\n",
    "                df = pd.DataFrame(list(zip(dias, tipo_sessao, presenca, mes_info, ano_info)), columns=['dia', 'tipo_sessao', 'presenca', 'mes', 'ano'])\n",
    "                df = df.set_index(['dia', 'mes', 'ano'])\n",
    "                presencas_df.append(df)\n",
    "todas_presencas = pd.concat(presencas_df)"
   ]
  },
  {
   "cell_type": "code",
   "execution_count": 126,
   "metadata": {},
   "outputs": [
    {
     "data": {
      "text/plain": [
       "<matplotlib.axes._subplots.AxesSubplot at 0x1b7c1525370>"
      ]
     },
     "execution_count": 126,
     "metadata": {},
     "output_type": "execute_result"
    },
    {
     "data": {
      "image/png": "[encoded data removed]",
      "text/plain": [
       "<Figure size 432x288 with 1 Axes>"
      ]
     },
     "metadata": {
      "needs_background": "light"
     },
     "output_type": "display_data"
    }
   ],
   "source": [
    "count = todas_presencas.groupby('presenca').count()\n",
    "\n",
    "count.plot.bar()"
   ]
  },
  {
   "cell_type": "code",
   "execution_count": 170,
   "metadata": {},
   "outputs": [
    {
     "data": {
      "image/png": "[encoded data removed]",
      "text/plain": [
       "<Figure size 432x288 with 1 Axes>"
      ]
     },
     "metadata": {
      "needs_background": "light"
     },
     "output_type": "display_data"
    }
   ],
   "source": [
    "ajustada = todas_presencas.query(\"presenca == 'P' or presenca == 'J'\") # cqr conta como falta ou presença?\n",
    "\n",
    "ajustada = ajustada.groupby('presenca').count()\n",
    "\n",
    "presencas_totais = ajustada['tipo_sessao'][0]\n",
    "\n",
    "plt.bar([0], [presencas_totais], label='presente')\n",
    "plt.bar([1], [len(todas_presencas['presenca'])], label='totais')\n",
    "plt.legend()\n",
    "plt.xlabel('Presença')\n",
    "plt.ylabel('Sessões')\n",
    "plt.show()"
   ]
  },
  {
   "cell_type": "code",
   "execution_count": 177,
   "metadata": {},
   "outputs": [
    {
     "name": "stdout",
     "output_type": "stream",
     "text": [
      "Arthur tem 96.57142857142857% de presença nas sessões\n"
     ]
    }
   ],
   "source": [
    "#porcentagem final\n",
    "\n",
    "pct = (presencas_totais * 100) / len(todas_presencas['presenca'])\n",
    "\n",
    "\n",
    "print('Arthur tem ' + str(pct) + \"% de presença nas sessões\")\n"
   ]
  },
  {
   "cell_type": "code",
   "execution_count": null,
   "metadata": {},
   "outputs": [],
   "source": []
  }
 ],
 "metadata": {
  "kernelspec": {
   "display_name": "Python 3",
   "language": "python",
   "name": "python3"
  },
  "language_info": {
   "codemirror_mode": {
    "name": "ipython",
    "version": 3
   },
   "file_extension": ".py",
   "mimetype": "text/x-python",
   "name": "python",
   "nbconvert_exporter": "python",
   "pygments_lexer": "ipython3",
   "version": "3.8.3"
  }
 },
 "nbformat": 4,
 "nbformat_minor": 4
}
